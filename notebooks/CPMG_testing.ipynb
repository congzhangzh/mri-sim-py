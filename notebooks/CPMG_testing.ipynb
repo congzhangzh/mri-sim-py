{
 "cells": [
  {
   "cell_type": "code",
   "execution_count": 1,
   "metadata": {
    "collapsed": false
   },
   "outputs": [],
   "source": [
    "%load_ext autoreload\n",
    "%autoreload 2\n",
    "from __future__ import division\n",
    "# %pylab\n",
    "import numpy as np\n",
    "import epgcpmg as epg"
   ]
  },
  {
   "cell_type": "code",
   "execution_count": 2,
   "metadata": {
    "collapsed": false
   },
   "outputs": [],
   "source": [
    "np.set_printoptions(suppress=True, precision=4, linewidth=300)"
   ]
  },
  {
   "cell_type": "code",
   "execution_count": 35,
   "metadata": {
    "collapsed": true
   },
   "outputs": [],
   "source": [
    "T1 = 1000e-3\n",
    "T2 = 100e-3\n",
    "TE = 5e-3\n",
    "\n",
    "\n",
    "\n",
    "P_z = np.array([[0],[0],[1]])\n",
    "P_xy = np.array([[1],[1],[0]])\n",
    "\n",
    "def eRF(P, a):\n",
    "        return epg.rf(P, np.pi/180 * a)\n",
    "def eTE(P, a):\n",
    "        return epg.FSE_TE(P, a * np.pi/180, TE, T1, T2)\n",
    "def eRelax(P, T):\n",
    "        return epg.relax(P, T, T1, T2)\n",
    "def eGrad(P):\n",
    "        return epg.grad(P)"
   ]
  },
  {
   "cell_type": "code",
   "execution_count": 36,
   "metadata": {
    "collapsed": false
   },
   "outputs": [
    {
     "name": "stdout",
     "output_type": "stream",
     "text": [
      "[[0 1]\n",
      " [0 0]\n",
      " [0 0]]\n"
     ]
    }
   ],
   "source": [
    "Q1 = eGrad(P_xy)\n",
    "print Q1\n"
   ]
  },
  {
   "cell_type": "code",
   "execution_count": 37,
   "metadata": {
    "collapsed": false
   },
   "outputs": [
    {
     "name": "stdout",
     "output_type": "stream",
     "text": [
      "[[ 0.     0.25 ]\n",
      " [ 0.     0.75 ]\n",
      " [ 0.    -0.433]]\n"
     ]
    }
   ],
   "source": [
    "Q2 = eRF(Q1, 120)\n",
    "print Q2"
   ]
  },
  {
   "cell_type": "code",
   "execution_count": 38,
   "metadata": {
    "collapsed": false
   },
   "outputs": [
    {
     "name": "stdout",
     "output_type": "stream",
     "text": [
      "[[ 0.75   0.     0.25 ]\n",
      " [ 0.75   0.     0.   ]\n",
      " [ 0.    -0.433  0.   ]]\n"
     ]
    }
   ],
   "source": [
    "Q3 = eGrad(Q2)\n",
    "print Q3"
   ]
  },
  {
   "cell_type": "code",
   "execution_count": 39,
   "metadata": {
    "collapsed": false
   },
   "outputs": [
    {
     "name": "stdout",
     "output_type": "stream",
     "text": [
      "[[ 0.9375  0.     -0.1875  0.      0.0625]\n",
      " [ 0.9375  0.      0.1875  0.      0.    ]\n",
      " [ 0.     -0.1083  0.     -0.1083  0.    ]]\n"
     ]
    }
   ],
   "source": [
    "Q4 = eGrad(eRF(eGrad(Q3), 120))\n",
    "print Q4"
   ]
  },
  {
   "cell_type": "code",
   "execution_count": 40,
   "metadata": {
    "collapsed": false
   },
   "outputs": [
    {
     "name": "stdout",
     "output_type": "stream",
     "text": [
      "[[ 0.7342  0.      0.3908  0.     -0.1841  0.      0.0258]\n",
      " [ 0.7342  0.     -0.0034  0.      0.0367  0.      0.    ]\n",
      " [ 0.     -0.3505  0.      0.1111  0.     -0.0308  0.    ]]\n"
     ]
    }
   ],
   "source": [
    "Q5 = eGrad(eRF(eGrad(Q4), 100))\n",
    "print Q5"
   ]
  },
  {
   "cell_type": "code",
   "execution_count": 41,
   "metadata": {
    "collapsed": false
   },
   "outputs": [
    {
     "name": "stdout",
     "output_type": "stream",
     "text": [
      "[[ 0.8534  0.     -0.1226  0.      0.2214  0.     -0.0727  0.      0.0065]\n",
      " [ 0.8534  0.      0.206   0.     -0.1114  0.      0.0194  0.      0.    ]\n",
      " [ 0.     -0.1442  0.     -0.2089  0.      0.0951  0.     -0.0112  0.    ]]\n"
     ]
    }
   ],
   "source": [
    "Q6 = eGrad(eRF(eGrad(Q5), 120))\n",
    "print Q6"
   ]
  },
  {
   "cell_type": "code",
   "execution_count": null,
   "metadata": {
    "collapsed": true
   },
   "outputs": [],
   "source": []
  },
  {
   "cell_type": "markdown",
   "metadata": {},
   "source": [
    "sadasd"
   ]
  },
  {
   "cell_type": "code",
   "execution_count": 42,
   "metadata": {
    "collapsed": false
   },
   "outputs": [
    {
     "data": {
      "text/plain": [
       "array([[ 1.],\n",
       "       [-1.],\n",
       "       [ 0.]])"
      ]
     },
     "execution_count": 42,
     "metadata": {},
     "output_type": "execute_result"
    }
   ],
   "source": [
    "P1 = eRF(P_z, 90)\n",
    "P1"
   ]
  },
  {
   "cell_type": "code",
   "execution_count": 43,
   "metadata": {
    "collapsed": false
   },
   "outputs": [
    {
     "data": {
      "text/plain": [
       "array([[ 0.7134,  0.0021,  0.2378],\n",
       "       [ 0.7134,  0.    ,  0.    ],\n",
       "       [ 0.0013, -0.4213,  0.    ]])"
      ]
     },
     "execution_count": 43,
     "metadata": {},
     "output_type": "execute_result"
    }
   ],
   "source": [
    "P2 = eTE(P_xy, 120)\n",
    "P2"
   ]
  },
  {
   "cell_type": "code",
   "execution_count": 44,
   "metadata": {
    "collapsed": false
   },
   "outputs": [
    {
     "data": {
      "text/plain": [
       "array([[ 0.8639,  0.0032, -0.1853,  0.0005,  0.0566],\n",
       "       [ 0.8639,  0.0015,  0.1697,  0.    ,  0.    ],\n",
       "       [ 0.0006, -0.091 , -0.0009, -0.1002,  0.    ]])"
      ]
     },
     "execution_count": 44,
     "metadata": {},
     "output_type": "execute_result"
    }
   ],
   "source": [
    "P3 = eTE(P2, 120)\n",
    "P3"
   ]
  },
  {
   "cell_type": "code",
   "execution_count": 45,
   "metadata": {
    "collapsed": false
   },
   "outputs": [
    {
     "data": {
      "text/plain": [
       "array([[ 0.8426,  0.0031, -0.1807,  0.0005,  0.0552],\n",
       "       [ 0.8426,  0.0015,  0.1655,  0.    ,  0.    ],\n",
       "       [ 0.0031, -0.0907, -0.0009, -0.0999,  0.    ]])"
      ]
     },
     "execution_count": 45,
     "metadata": {},
     "output_type": "execute_result"
    }
   ],
   "source": [
    "P4 = eRelax(P3, TE/2)\n",
    "P4"
   ]
  },
  {
   "cell_type": "code",
   "execution_count": 46,
   "metadata": {
    "collapsed": false
   },
   "outputs": [
    {
     "data": {
      "text/plain": [
       "array([[ 0.0015,  0.8426,  0.0031, -0.1807,  0.0005,  0.0552],\n",
       "       [ 0.0015,  0.1655,  0.    ,  0.    ,  0.    ,  0.    ],\n",
       "       [ 0.0031, -0.0907, -0.0009, -0.0999,  0.    ,  0.    ]])"
      ]
     },
     "execution_count": 46,
     "metadata": {},
     "output_type": "execute_result"
    }
   ],
   "source": [
    "P5 = eGrad(P4)\n",
    "P5"
   ]
  },
  {
   "cell_type": "code",
   "execution_count": 47,
   "metadata": {
    "collapsed": false
   },
   "outputs": [
    {
     "data": {
      "text/plain": [
       "array([[ 0.0042,  0.2562,  0.    , -0.1317,  0.0001,  0.0138],\n",
       "       [-0.0012,  0.7519,  0.0031, -0.049 ,  0.0004,  0.0414],\n",
       "       [-0.0016, -0.2478, -0.0009,  0.1282, -0.0002, -0.0239]])"
      ]
     },
     "execution_count": 47,
     "metadata": {},
     "output_type": "execute_result"
    }
   ],
   "source": [
    "P6 = eRF(P5, 120)\n",
    "P6"
   ]
  },
  {
   "cell_type": "code",
   "execution_count": 48,
   "metadata": {
    "collapsed": false
   },
   "outputs": [
    {
     "data": {
      "text/plain": [
       "array([[ 0.7519,  0.0042,  0.2562,  0.    , -0.1317,  0.0001,  0.0138],\n",
       "       [ 0.7519,  0.0031, -0.049 ,  0.0004,  0.0414,  0.    ,  0.    ],\n",
       "       [-0.0016, -0.2478, -0.0009,  0.1282, -0.0002, -0.0239,  0.    ]])"
      ]
     },
     "execution_count": 48,
     "metadata": {},
     "output_type": "execute_result"
    }
   ],
   "source": [
    "P7 = eGrad(P6)\n",
    "P7"
   ]
  },
  {
   "cell_type": "code",
   "execution_count": 49,
   "metadata": {
    "collapsed": false
   },
   "outputs": [
    {
     "data": {
      "text/plain": [
       "array([[ 0.7333,  0.0041,  0.2498,  0.    , -0.1285,  0.0001,  0.0134],\n",
       "       [ 0.7333,  0.003 , -0.0478,  0.0004,  0.0403,  0.    ,  0.    ],\n",
       "       [ 0.0009, -0.2472, -0.0009,  0.1279, -0.0002, -0.0238,  0.    ]])"
      ]
     },
     "execution_count": 49,
     "metadata": {},
     "output_type": "execute_result"
    }
   ],
   "source": [
    "P8 = eRelax(P7, TE/2)\n",
    "P8"
   ]
  },
  {
   "cell_type": "code",
   "execution_count": 50,
   "metadata": {
    "collapsed": false
   },
   "outputs": [
    {
     "data": {
      "text/plain": [
       "array([[ 0.6274,  0.0062,  0.0247,  0.0009,  0.2432, -0.0002, -0.0733,  0.    ,  0.0053],\n",
       "       [ 0.6274,  0.0033,  0.0328,  0.0002, -0.0489,  0.0001,  0.0075,  0.    ,  0.    ],\n",
       "       [ 0.0019, -0.3315, -0.0016, -0.1225,  0.    ,  0.0657, -0.0001, -0.0064,  0.    ]])"
      ]
     },
     "execution_count": 50,
     "metadata": {},
     "output_type": "execute_result"
    }
   ],
   "source": [
    "P9 = eTE(P8, 100)\n",
    "P9"
   ]
  },
  {
   "cell_type": "code",
   "execution_count": 51,
   "metadata": {
    "collapsed": false
   },
   "outputs": [
    {
     "data": {
      "text/plain": [
       "array([[ 0.6807,  0.0073, -0.0527,  0.001 , -0.1349,  0.0004,  0.1627, -0.0001, -0.035 ,  0.    ,  0.0021],\n",
       "       [ 0.6807,  0.0051,  0.1119,  0.0005,  0.0758, -0.0001, -0.0348,  0.    ,  0.003 ,  0.    ,  0.    ],\n",
       "       [ 0.0017, -0.2276, -0.0026, -0.0141, -0.0004, -0.1243,  0.0001,  0.0362, -0.    , -0.0025,  0.    ]])"
      ]
     },
     "execution_count": 51,
     "metadata": {},
     "output_type": "execute_result"
    }
   ],
   "source": [
    "P10 = eTE(P9, 100)\n",
    "P10"
   ]
  },
  {
   "cell_type": "code",
   "execution_count": 52,
   "metadata": {
    "collapsed": false
   },
   "outputs": [
    {
     "data": {
      "text/plain": [
       "array([[ 0.642 ,  0.0089,  0.1119,  0.0007,  0.0081, -0.0001, -0.1915,  0.0003,  0.1003, -0.0001, -0.0162,  0.    ,  0.0008],\n",
       "       [ 0.642 ,  0.0068,  0.0139,  0.0009,  0.0301,  0.0002,  0.0573, -0.0001, -0.0171,  0.    ,  0.0012,  0.    ,  0.    ],\n",
       "       [ 0.0018, -0.2332, -0.0028,  0.064 , -0.0004,  0.0695, -0.0002, -0.0828,  0.0001,  0.0172, -0.    , -0.001 ,  0.    ]])"
      ]
     },
     "execution_count": 52,
     "metadata": {},
     "output_type": "execute_result"
    }
   ],
   "source": [
    "P11 = eTE(P10, 100)\n",
    "P11"
   ]
  },
  {
   "cell_type": "code",
   "execution_count": 131,
   "metadata": {
    "collapsed": false
   },
   "outputs": [
    {
     "data": {
      "text/plain": [
       "0.99750312239746008"
      ]
     },
     "execution_count": 131,
     "metadata": {},
     "output_type": "execute_result"
    }
   ],
   "source": [
    "np.exp(-TE/2 / T1)"
   ]
  },
  {
   "cell_type": "code",
   "execution_count": 150,
   "metadata": {
    "collapsed": true
   },
   "outputs": [],
   "source": [
    "T = 250"
   ]
  },
  {
   "cell_type": "code",
   "execution_count": 151,
   "metadata": {
    "collapsed": false
   },
   "outputs": [],
   "source": [
    "M1 = 20\n",
    "M2 = 100\n",
    "M3 = 100\n",
    "M4 = T - M1 - M2 - M3\n",
    "a0 = np.r_[np.linspace(120, 50, M1), np.linspace(50, 80, M2), np.linspace(80, 90, M3), np.linspace(90, 120, M4)]\n",
    "plt.plot(a0)\n",
    "plt.show()"
   ]
  },
  {
   "cell_type": "code",
   "execution_count": 152,
   "metadata": {
    "collapsed": true
   },
   "outputs": [],
   "source": [
    "a1 = a0.copy()\n",
    "a2 = np.array([120] * T)\n",
    "a3 = np.array([180] * T)"
   ]
  },
  {
   "cell_type": "code",
   "execution_count": 153,
   "metadata": {
    "collapsed": true
   },
   "outputs": [],
   "source": [
    "T1 = 1\n",
    "T21 = 100e-3\n",
    "T22 = 40e-3"
   ]
  },
  {
   "cell_type": "code",
   "execution_count": 154,
   "metadata": {
    "collapsed": true
   },
   "outputs": [],
   "source": [
    "x11 = epg.FSE_signal(np.pi/180*a1, TE, T1, T21).ravel()\n",
    "x12 = epg.FSE_signal(np.pi/180*a2, TE, T1, T21).ravel()\n",
    "x13 = epg.FSE_signal(np.pi/180*a3, TE, T1, T21).ravel()\n",
    "\n",
    "x21 = epg.FSE_signal(np.pi/180*a1, TE, T1, T22).ravel()\n",
    "x22 = epg.FSE_signal(np.pi/180*a2, TE, T1, T22).ravel()\n",
    "x23 = epg.FSE_signal(np.pi/180*a3, TE, T1, T22).ravel()"
   ]
  },
  {
   "cell_type": "code",
   "execution_count": null,
   "metadata": {
    "collapsed": true
   },
   "outputs": [],
   "source": []
  },
  {
   "cell_type": "code",
   "execution_count": 155,
   "metadata": {
    "collapsed": false
   },
   "outputs": [
    {
     "data": {
      "text/plain": [
       "[<matplotlib.lines.Line2D at 0x1157ce810>]"
      ]
     },
     "execution_count": 155,
     "metadata": {},
     "output_type": "execute_result"
    }
   ],
   "source": [
    "plt.figure()\n",
    "plt.plot(x11)\n",
    "plt.plot(x21)\n",
    "plt.plot(x12)\n",
    "plt.plot(x22)\n",
    "plt.plot(x13)\n",
    "plt.plot(x23)"
   ]
  },
  {
   "cell_type": "code",
   "execution_count": 156,
   "metadata": {
    "collapsed": false
   },
   "outputs": [],
   "source": [
    "plt.show()"
   ]
  },
  {
   "cell_type": "code",
   "execution_count": 157,
   "metadata": {
    "collapsed": false
   },
   "outputs": [
    {
     "name": "stdout",
     "output_type": "stream",
     "text": [
      "2.73910716239\n",
      "2.83252417209\n",
      "3.08355832516\n",
      "1.71779149367\n",
      "1.72557076802\n",
      "1.87638260069\n"
     ]
    }
   ],
   "source": [
    "print np.linalg.norm(x11)\n",
    "print np.linalg.norm(x12)\n",
    "print np.linalg.norm(x13)\n",
    "print np.linalg.norm(x21)\n",
    "print np.linalg.norm(x22)\n",
    "print np.linalg.norm(x23)\n"
   ]
  },
  {
   "cell_type": "code",
   "execution_count": 158,
   "metadata": {
    "collapsed": false
   },
   "outputs": [
    {
     "name": "stdout",
     "output_type": "stream",
     "text": [
      "4.3442598635\n",
      "4.43013589734\n",
      "5.22886160947\n"
     ]
    }
   ],
   "source": [
    "print np.dot(x11, x21)\n",
    "print np.dot(x12, x22)\n",
    "print np.dot(x13, x23)"
   ]
  },
  {
   "cell_type": "code",
   "execution_count": 159,
   "metadata": {
    "collapsed": false
   },
   "outputs": [
    {
     "name": "stdout",
     "output_type": "stream",
     "text": [
      "1.76499593578\n",
      "2.14051586621\n",
      "2.5714203899\n"
     ]
    }
   ],
   "source": [
    "print np.linalg.norm(x11 - x21)**2\n",
    "print np.linalg.norm(x12 - x22)**2\n",
    "print np.linalg.norm(x13 - x23)**2\n"
   ]
  },
  {
   "cell_type": "code",
   "execution_count": 160,
   "metadata": {
    "collapsed": true
   },
   "outputs": [],
   "source": [
    "def normalized_loss(theta1, theta2, angles_rad, TE, TR):\n",
    "    T = len(angles_rad)\n",
    "    x1 = epg.FSE_signal(angles_rad, TE, theta1['T1'], theta1['T2']) * (1 - np.exp(-(TR - T * TE)/theta1['T1']))\n",
    "    x2 = epg.FSE_signal(angles_rad, TE, theta2['T1'], theta2['T2']) * (1 - np.exp(-(TR - T * TE)/theta2['T1']))\n",
    "\n",
    "    x1 = x1 / np.linalg.norm(x1, ord=2)\n",
    "    x2 = x2 / np.linalg.norm(x2, ord=2)\n",
    "\n",
    "    return - np.dot(x1.ravel(), x2.ravel())\n"
   ]
  },
  {
   "cell_type": "code",
   "execution_count": 161,
   "metadata": {
    "collapsed": false
   },
   "outputs": [
    {
     "name": "stdout",
     "output_type": "stream",
     "text": [
      "-0.938086863237\n",
      "-0.958632990652\n",
      "-0.90561248144\n"
     ]
    }
   ],
   "source": [
    "TR = 1.4\n",
    "theta1 = {'T1': T1, 'T2': T21}\n",
    "theta2 = {'T1' : T1, 'T2': T22}\n",
    "print normalized_loss(theta1, theta2, a1, TE, TR)\n",
    "print normalized_loss(theta1, theta2, a2, TE, TR)\n",
    "print normalized_loss(theta1, theta2, a3, TE, TR)"
   ]
  },
  {
   "cell_type": "code",
   "execution_count": null,
   "metadata": {
    "collapsed": true
   },
   "outputs": [],
   "source": []
  }
 ],
 "metadata": {
  "kernelspec": {
   "display_name": "Python 2",
   "language": "python",
   "name": "python2"
  },
  "language_info": {
   "codemirror_mode": {
    "name": "ipython",
    "version": 2
   },
   "file_extension": ".py",
   "mimetype": "text/x-python",
   "name": "python",
   "nbconvert_exporter": "python",
   "pygments_lexer": "ipython2",
   "version": "2.7.11"
  }
 },
 "nbformat": 4,
 "nbformat_minor": 0
}
