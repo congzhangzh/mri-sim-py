{
 "cells": [
  {
   "cell_type": "code",
   "execution_count": 5,
   "metadata": {
    "collapsed": false,
    "jupyter": {
     "outputs_hidden": false
    }
   },
   "outputs": [],
   "source": [
    "from __future__ import division\n",
    "import numpy as np\n",
    "from numpy import exp\n",
    "import t1t2shuffle.t1t2shuffle as t1t2sh\n",
    "import time\n",
    "import matplotlib.pyplot as plt\n",
    "%matplotlib inline"
   ]
  },
  {
   "cell_type": "code",
   "execution_count": 6,
   "metadata": {
    "collapsed": false,
    "jupyter": {
     "outputs_hidden": false
    }
   },
   "outputs": [],
   "source": [
    "def numerical_gradient(myfun, myparams, e=1e-5):\n",
    "\n",
    "    initial_params = myparams.copy()\n",
    "    num_grad = np.zeros(initial_params.shape)\n",
    "    perturb = np.zeros(initial_params.shape)\n",
    "    \n",
    "    for p in range(len(initial_params)):\n",
    "        \n",
    "        perturb[p] = e\n",
    "        \n",
    "        loss2 = myfun(myparams + perturb)\n",
    "        loss1 = myfun(myparams - perturb)\n",
    "        \n",
    "        num_grad[p] = (loss2 - loss1) / (2 * e)\n",
    "        \n",
    "        perturb[p] = 0.\n",
    "\n",
    "        return num_grad"
   ]
  },
  {
   "cell_type": "code",
   "execution_count": 7,
   "metadata": {},
   "outputs": [],
   "source": [
    "def read_angles(fliptable):\n",
    "    f = open(fliptable, 'r')\n",
    "    angles = []\n",
    "    for line in f.readlines():\n",
    "        angles.append(float(line))\n",
    "    f.close()\n",
    "    return np.array(angles)"
   ]
  },
  {
   "cell_type": "code",
   "execution_count": 8,
   "metadata": {
    "collapsed": false,
    "jupyter": {
     "outputs_hidden": false
    }
   },
   "outputs": [
    {
     "ename": "SyntaxError",
     "evalue": "Missing parentheses in call to 'print'. Did you mean print('forward model time:', toc - tic)? (3805042530.py, line 26)",
     "output_type": "error",
     "traceback": [
      "\u001b[0;36m  Input \u001b[0;32mIn [8]\u001b[0;36m\u001b[0m\n\u001b[0;31m    print(rf'forward model time:', toc - tic\u001b[0m\n\u001b[0m          ^\u001b[0m\n\u001b[0;31mSyntaxError\u001b[0m\u001b[0;31m:\u001b[0m Missing parentheses in call to 'print'. Did you mean print('forward model time:', toc - tic)?\n"
     ]
    }
   ],
   "source": [
    "M0 = 1;\n",
    "T1 = 1000\n",
    "T2 = 100\n",
    "TE = 5\n",
    "B1 = .8\n",
    "\n",
    "TRs = np.array([2800, 1700, 950])\n",
    "\n",
    "N = len(TRs)\n",
    "\n",
    "T = 10\n",
    "\n",
    "echo_times = np.arange(TE, TE*(T+1), TE)\n",
    "\n",
    "angle_ex_rad = np.pi / 2\n",
    "\n",
    "angles_rad = 120 * np.ones((T,)) * np.pi/180\n",
    "angles_rad = np.pi/180 * read_angles('flipangles.txt.814192544')[:T]\n",
    "\n",
    "ttic = time.time()\n",
    "\n",
    "tic = time.time()\n",
    "sig = t1t2sh.t1t2shuffle_ex(angle_ex_rad, angles_rad, TE, TRs, M0, T1, T2, B1)\n",
    "toc = time.time()\n",
    "\n",
    "print(rf'forward model time: {toc - tic}')\n",
    "\n",
    "tic = time.time()\n",
    "sig_prime_T2 = t1t2sh.t1t2shuffle_ex_prime_T2(angle_ex_rad, angles_rad, TE, TRs, M0, T1, T2, B1)\n",
    "toc = time.time()\n",
    "\n",
    "print(rf'T2 derivative time: {toc - tic}')\n",
    "\n",
    "tic = time.time()\n",
    "sig_prime_T1 = t1t2sh.t1t2shuffle_ex_prime_T1(angle_ex_rad, angles_rad, TE, TRs, M0, T1, T2, B1)\n",
    "toc = time.time()\n",
    "\n",
    "print(rf'T1 derivative time: {toc - tic}')\n",
    "\n",
    "tic = time.time()\n",
    "sig_prime_M0 = t1t2sh.t1t2shuffle_ex_prime_M0(angle_ex_rad,angles_rad, TE, TRs, M0, T1, T2, B1)\n",
    "toc = time.time()\n",
    "\n",
    "print(rf'M0 derivative time: { toc - tic}')\n",
    "\n",
    "tic = time.time()\n",
    "sig_prime_B1 = t1t2sh.t1t2shuffle_ex_prime_B1(angle_ex_rad,angles_rad, TE, TRs, M0, T1, T2, B1)\n",
    "toc = time.time()\n",
    "\n",
    "print(rf'B1 derivative time: { toc - tic}')\n",
    "\n",
    "\n",
    "sig_prime_alpha = np.zeros((T,T*N))\n",
    "tic = time.time()\n",
    "for i in range(T):\n",
    "    sig_prime_alpha[i,:] = t1t2sh.t1t2shuffle_prime_alpha_idx(angles_rad, TE, TRs, M0, T1, T2, i)\n",
    "toc = time.time()\n",
    "\n",
    "print(rf'alpha derivative time: { toc - tic}')\n",
    "\n",
    "ttoc = time.time()\n",
    "\n",
    "print\n",
    "print(rf'total grad time: {ttoc - ttic}')\n",
    "\n",
    "\n",
    "def my_angles(angles, alpha, idx):\n",
    "    my_angles = angles.copy()\n",
    "    my_angles[idx] = alpha\n",
    "    return my_angles\n",
    "\n",
    "\n",
    "tic = time.time()\n",
    "w1_num = np.zeros((T,N))\n",
    "w2_num = np.zeros((T,N))\n",
    "w0_num = np.zeros((T,N))\n",
    "wb1_num = np.zeros((T,N))\n",
    "wa_num = np.zeros((T,N,T))\n",
    "for i in range(T):\n",
    "    for j in range(N):\n",
    "        w2_num[i,j] = numerical_gradient(lambda x: t1t2sh.t1t2shuffle_ex(angle_ex_rad, angles_rad, TE, np.array([TRs[j]]), M0, T1, x, B1)[i], np.array([T2]))\n",
    "        w1_num[i,j] = numerical_gradient(lambda x: t1t2sh.t1t2shuffle_ex(angle_ex_rad, angles_rad, TE, np.array([TRs[j]]), M0, x, T2, B1)[i], np.array([T1]))\n",
    "        w0_num[i,j] = numerical_gradient(lambda x: t1t2sh.t1t2shuffle_ex(angle_ex_rad, angles_rad, TE, np.array([TRs[j]]), x, T1, T2, B1)[i], np.array([M0]))\n",
    "        wb1_num[i,j] = numerical_gradient(lambda x: t1t2sh.t1t2shuffle_ex(angle_ex_rad, angles_rad, TE, np.array([TRs[j]]), M0, T1, T2, x)[i], np.array([B1]))\n",
    "        \n",
    "        for k in range(T):\n",
    "            wa_num[i, j, k] = numerical_gradient(lambda x: t1t2sh.t1t2shuffle(my_angles(angles_rad, x, i), TE, np.array([TRs[j]]), M0, T1, T2)[k], np.array([angles_rad[i]]))\n",
    "\n",
    "toc = time.time()\n",
    "print(rf'numerical grad time: {toc-tic}')\n",
    "print\n",
    "\n",
    "print('T1 numerical vs prop gradient error:%s', np.linalg.norm(w1_num.ravel(order='F') - sig_prime_T1.T)\n",
    "print('T2 numerical vs prop gradient error:{
 "cells": [
  {
   "cell_type": "code",
   "execution_count": 5,
   "metadata": {
    "collapsed": false,
    "jupyter": {
     "outputs_hidden": false
    }
   },
   "outputs": [],
   "source": [
    "from __future__ import division\n",
    "import numpy as np\n",
    "from numpy import exp\n",
    "import t1t2shuffle.t1t2shuffle as t1t2sh\n",
    "import time\n",
    "import matplotlib.pyplot as plt\n",
    "%matplotlib inline"
   ]
  },
  {
   "cell_type": "code",
   "execution_count": 6,
   "metadata": {
    "collapsed": false,
    "jupyter": {
     "outputs_hidden": false
    }
   },
   "outputs": [],
   "source": [
    "def numerical_gradient(myfun, myparams, e=1e-5):\n",
    "\n",
    "    initial_params = myparams.copy()\n",
    "    num_grad = np.zeros(initial_params.shape)\n",
    "    perturb = np.zeros(initial_params.shape)\n",
    "    \n",
    "    for p in range(len(initial_params)):\n",
    "        \n",
    "        perturb[p] = e\n",
    "        \n",
    "        loss2 = myfun(myparams + perturb)\n",
    "        loss1 = myfun(myparams - perturb)\n",
    "        \n",
    "        num_grad[p] = (loss2 - loss1) / (2 * e)\n",
    "        \n",
    "        perturb[p] = 0.\n",
    "\n",
    "        return num_grad"
   ]
  },
  {
   "cell_type": "code",
   "execution_count": 7,
   "metadata": {},
   "outputs": [],
   "source": [
    "def read_angles(fliptable):\n",
    "    f = open(fliptable, 'r')\n",
    "    angles = []\n",
    "    for line in f.readlines():\n",
    "        angles.append(float(line))\n",
    "    f.close()\n",
    "    return np.array(angles)"
   ]
  },
  {
   "cell_type": "code",
   "execution_count": 8,
   "metadata": {
    "collapsed": false,
    "jupyter": {
     "outputs_hidden": false
    }
   },
   "outputs": [
    {
     "ename": "SyntaxError",
     "evalue": "Missing parentheses in call to 'print'. Did you mean print('forward model time:', toc - tic)? (3805042530.py, line 26)",
     "output_type": "error",
     "traceback": [
      "\u001b[0;36m  Input \u001b[0;32mIn [8]\u001b[0;36m\u001b[0m\n\u001b[0;31m    print(rf'forward model time:', toc - tic\u001b[0m\n\u001b[0m          ^\u001b[0m\n\u001b[0;31mSyntaxError\u001b[0m\u001b[0;31m:\u001b[0m Missing parentheses in call to 'print'. Did you mean print('forward model time:', toc - tic)?\n"
     ]
    }
   ],
   "source": [
    "M0 = 1;\n",
    "T1 = 1000\n",
    "T2 = 100\n",
    "TE = 5\n",
    "B1 = .8\n",
    "\n",
    "TRs = np.array([2800, 1700, 950])\n",
    "\n",
    "N = len(TRs)\n",
    "\n",
    "T = 10\n",
    "\n",
    "echo_times = np.arange(TE, TE*(T+1), TE)\n",
    "\n",
    "angle_ex_rad = np.pi / 2\n",
    "\n",
    "angles_rad = 120 * np.ones((T,)) * np.pi/180\n",
    "angles_rad = np.pi/180 * read_angles('flipangles.txt.814192544')[:T]\n",
    "\n",
    "ttic = time.time()\n",
    "\n",
    "tic = time.time()\n",
    "sig = t1t2sh.t1t2shuffle_ex(angle_ex_rad, angles_rad, TE, TRs, M0, T1, T2, B1)\n",
    "toc = time.time()\n",
    "\n",
    "print(rf'forward model time: {toc - tic}')\n",
    "\n",
    "tic = time.time()\n",
    "sig_prime_T2 = t1t2sh.t1t2shuffle_ex_prime_T2(angle_ex_rad, angles_rad, TE, TRs, M0, T1, T2, B1)\n",
    "toc = time.time()\n",
    "\n",
    "print(rf'T2 derivative time: {toc - tic}')\n",
    "\n",
    "tic = time.time()\n",
    "sig_prime_T1 = t1t2sh.t1t2shuffle_ex_prime_T1(angle_ex_rad, angles_rad, TE, TRs, M0, T1, T2, B1)\n",
    "toc = time.time()\n",
    "\n",
    "print(rf'T1 derivative time: {toc - tic}')\n",
    "\n",
    "tic = time.time()\n",
    "sig_prime_M0 = t1t2sh.t1t2shuffle_ex_prime_M0(angle_ex_rad,angles_rad, TE, TRs, M0, T1, T2, B1)\n",
    "toc = time.time()\n",
    "\n",
    "print(rf'M0 derivative time: { toc - tic}')\n",
    "\n",
    "tic = time.time()\n",
    "sig_prime_B1 = t1t2sh.t1t2shuffle_ex_prime_B1(angle_ex_rad,angles_rad, TE, TRs, M0, T1, T2, B1)\n",
    "toc = time.time()\n",
    "\n",
    "print(rf'B1 derivative time: { toc - tic}')\n",
    "\n",
    "\n",
    "sig_prime_alpha = np.zeros((T,T*N))\n",
    "tic = time.time()\n",
    "for i in range(T):\n",
    "    sig_prime_alpha[i,:] = t1t2sh.t1t2shuffle_prime_alpha_idx(angles_rad, TE, TRs, M0, T1, T2, i)\n",
    "toc = time.time()\n",
    "\n",
    "print(rf'alpha derivative time: { toc - tic}')\n",
    "\n",
    "ttoc = time.time()\n",
    "\n",
    "print\n",
    "print(rf'total grad time: {ttoc - ttic}')\n",
    "\n",
    "\n",
    "def my_angles(angles, alpha, idx):\n",
    "    my_angles = angles.copy()\n",
    "    my_angles[idx] = alpha\n",
    "    return my_angles\n",
    "\n",
    "\n",
    "tic = time.time()\n",
    "w1_num = np.zeros((T,N))\n",
    "w2_num = np.zeros((T,N))\n",
    "w0_num = np.zeros((T,N))\n",
    "wb1_num = np.zeros((T,N))\n",
    "wa_num = np.zeros((T,N,T))\n",
    "for i in range(T):\n",
    "    for j in range(N):\n",
    "        w2_num[i,j] = numerical_gradient(lambda x: t1t2sh.t1t2shuffle_ex(angle_ex_rad, angles_rad, TE, np.array([TRs[j]]), M0, T1, x, B1)[i], np.array([T2]))\n",
    "        w1_num[i,j] = numerical_gradient(lambda x: t1t2sh.t1t2shuffle_ex(angle_ex_rad, angles_rad, TE, np.array([TRs[j]]), M0, x, T2, B1)[i], np.array([T1]))\n",
    "        w0_num[i,j] = numerical_gradient(lambda x: t1t2sh.t1t2shuffle_ex(angle_ex_rad, angles_rad, TE, np.array([TRs[j]]), x, T1, T2, B1)[i], np.array([M0]))\n",
    "        wb1_num[i,j] = numerical_gradient(lambda x: t1t2sh.t1t2shuffle_ex(angle_ex_rad, angles_rad, TE, np.array([TRs[j]]), M0, T1, T2, x)[i], np.array([B1]))\n",
    "        \n",
    "        for k in range(T):\n",
    "            wa_num[i, j, k] = numerical_gradient(lambda x: t1t2sh.t1t2shuffle(my_angles(angles_rad, x, i), TE, np.array([TRs[j]]), M0, T1, T2)[k], np.array([angles_rad[i]]))\n",
    "\n",
    "toc = time.time()\n",
    "print(rf'numerical grad time: {toc-tic}')\n",
    "print\n",
    "\n",
    "print('T1 numerical vs prop gradient error:%s', np.linalg.norm(w1_num.ravel(order='F') - sig_prime_T1.T)\n",
    "print('T2 numerical vs prop gradient error:', np.linalg.norm(w2_num.ravel(order='F') - sig_prime_T2.T)\n",
    "print('M0 numerical vs prop gradient error:', np.linalg.norm(w0_num.ravel(order='F') - sig_prime_M0.T)\n",
    "print('alpha numerical vs prop gradient error:', np.linalg.norm(wa_num.ravel() - sig_prime_alpha.ravel())\n",
    "\n",
    "\n",
    "plt.figure()\n",
    "plt.plot(range(T*N), sig)\n",
    "plt.title('T1-T2 Shuffling signal')\n",
    "\n",
    "plt.figure()\n",
    "plt.plot(range(T*N), sig_prime_T2, range(T*N), w2_num.ravel(order='F'), '--o')\n",
    "plt.title('Derivative w.r.t. T2')\n",
    "plt.legend(('prop grad', 'numerical grad'))\n",
    "\n",
    "plt.figure()\n",
    "plt.plot(range(T*N), sig_prime_T1, range(T*N), w1_num.ravel(order='F'), '--o')\n",
    "plt.title('Derivative w.r.t. T1')\n",
    "plt.legend(('prop grad', 'numerical grad'))\n",
    "\n",
    "plt.figure()\n",
    "plt.plot(range(T*N), sig_prime_M0, range(T*N), w0_num.ravel(order='F'), '--o')\n",
    "plt.title('Derivative w.r.t. M0')\n",
    "plt.legend(('prop grad', 'numerical grad'))\n",
    "\n",
    "plt.figure()\n",
    "plt.plot(range(T*N), sig_prime_B1, range(T*N), wb1_num.ravel(order='F'), '--o')\n",
    "plt.title('Derivative w.r.t. B1')\n",
    "plt.legend(('prop grad', 'numerical grad'))\n",
    "\n",
    "plt.figure(figsize=(10,T*2))\n",
    "for k in range(T):\n",
    "    plt.subplot(T,1,k+1)\n",
    "    plt.plot(range(T*N), sig_prime_alpha[k,:], range(T*N), wa_num[k,:,:].ravel(), '--o')\n",
    "\n",
    "    plt.title('Derivative w.r.t. alpha %d' % k)\n",
    "    plt.legend(('prop grad', 'numerical grad'))"
   ]
  },
  {
   "cell_type": "code",
   "execution_count": null,
   "metadata": {
    "collapsed": false,
    "jupyter": {
     "outputs_hidden": false
    }
   },
   "outputs": [],
   "source": [
    "M0 = 1;\n",
    "T1 = 1000\n",
    "T2 = 100\n",
    "TE = 5\n",
    "\n",
    "b1 = .9\n",
    "\n",
    "TRs = np.array([2800, 1700, 950])\n",
    "\n",
    "N = len(TRs)\n",
    "\n",
    "T = 10\n",
    "\n",
    "echo_times = np.arange(TE, TE*(T+1), TE)\n",
    "\n",
    "angles_rad = 120 * np.ones((T,)) * np.pi/180\n",
    "angles_rad = np.pi/180 * read_angles('flipangles.txt.814192544')[:T]\n",
    "\n",
    "\n",
    "tic = time.time()\n",
    "sig_prime_B1 = t1t2sh.t1t2shuffle_prime_T2(angles_rad, TE, TRs, M0, T1, T2)\n",
    "toc = time.time()\n",
    "\n",
    "print(rf'T2 derivative time: { toc - tic}')\n"
   ]
  },
  {
   "cell_type": "code",
   "execution_count": null,
   "metadata": {
    "collapsed": true,
    "jupyter": {
     "outputs_hidden": true
    }
   },
   "outputs": [],
   "source": []
  },
  {
   "cell_type": "code",
   "execution_count": null,
   "metadata": {
    "collapsed": true,
    "jupyter": {
     "outputs_hidden": true
    }
   },
   "outputs": [],
   "source": []
  },
  {
   "cell_type": "code",
   "execution_count": null,
   "metadata": {
    "collapsed": false,
    "jupyter": {
     "outputs_hidden": false
    }
   },
   "outputs": [],
   "source": [
    "a11 = fisher_prime_T1_T1(angles_rad, TE, TRs, M0, T1, T2)\n",
    "a12 = fisher_prime_T1_T2(angles_rad, TE, TRs, M0, T1, T2)\n",
    "a13 = fisher_prime_T1_M0(angles_rad, TE, TRs, M0, T1, T2)\n",
    "a22 = fisher_prime_T2_T2(angles_rad, TE, TRs, M0, T1, T2)\n",
    "a23 = fisher_prime_T2_M0(angles_rad, TE, TRs, M0, T1, T2)\n",
    "a33 = fisher_prime_M0_M0(angles_rad, TE, TRs, M0, T1, T2)\n",
    "\n",
    "a21 = a12\n",
    "a31 = a13\n",
    "a32 = a23\n",
    "\n",
    "FIM = np.array([[a11, a12, a13], [a21, a22, a23], [a31, a32, a33]])\n",
    "print FIM"
   ]
  },
  {
   "cell_type": "code",
   "execution_count": null,
   "metadata": {
    "collapsed": false,
    "jupyter": {
     "outputs_hidden": false
    }
   },
   "outputs": [],
   "source": [
    "FIM_det = a11*a22*a33 + a21*a32*a13 + a31*a12*a23 - a11*a32*a23 - a31*a22*a13 - a21*a12*a33\n",
    "FIM_inv = 1 / FIM_det * np.array([[a22*a33-a23*a32, a13*a32-a12*a33, a12*a23-a13*a22],\n",
    "                                  [a23*a31-a21*a33, a11*a33-a13*a31, a13*a21-a11*a23],\n",
    "                                  [a21*a32-a22*a31, a12*a31-a11*a32, a11*a22-a12*a21]])\n",
    "\n",
    "print FIM_inv"
   ]
  },
  {
   "cell_type": "code",
   "execution_count": null,
   "metadata": {
    "collapsed": false,
    "jupyter": {
     "outputs_hidden": false
    }
   },
   "outputs": [],
   "source": [
    "def FIM_inv(angles_rad, TE, TRs, M0, T1, T2):\n",
    "    a11 = fisher_prime_T1_T1(angles_rad, TE, TRs, M0, T1, T2)\n",
    "    a12 = fisher_prime_T1_T2(angles_rad, TE, TRs, M0, T1, T2)\n",
    "    a13 = fisher_prime_T1_M0(angles_rad, TE, TRs, M0, T1, T2)\n",
    "    a22 = fisher_prime_T2_T2(angles_rad, TE, TRs, M0, T1, T2)\n",
    "    a23 = fisher_prime_T2_M0(angles_rad, TE, TRs, M0, T1, T2)\n",
    "    a33 = fisher_prime_M0_M0(angles_rad, TE, TRs, M0, T1, T2)\n",
    "\n",
    "    a21 = a12\n",
    "    a31 = a13\n",
    "    a32 = a23\n",
    "    FIM_det = a11*a22*a33 + a21*a32*a13 + a31*a12*a23 - a11*a32*a23 - a31*a22*a13 - a21*a12*a33\n",
    "    FIM_inv = 1 / FIM_det * np.array([[a22*a33-a23*a32, a13*a32-a12*a33, a12*a23-a13*a22],\n",
    "                                      [a23*a31-a21*a33, a11*a33-a13*a31, a13*a21-a11*a23],\n",
    "                                      [a21*a32-a22*a31, a12*a31-a11*a32, a11*a22-a12*a21]])\n",
    "    \n",
    "    return FIM_inv\n",
    "\n",
    "\n",
    "angles_rad = np.pi * np.ones((500,))\n",
    "\n",
    "T1s = np.linspace(500, 1000, 50)\n",
    "T2s = np.linspace(10, 1000, 50)\n",
    "\n",
    "res1 = np.zeros((3, 3, len(T1s)))\n",
    "res2 = np.zeros((3, 3, len(T2s)))\n",
    "\n",
    "TRs = np.array([2800, 1700, 950])\n",
    "\n",
    "\n",
    "for i, mT1 in enumerate(T1s):\n",
    "    res1[:,:,i] = FIM_inv(angles_rad, TE, TRs, M0, mT1, T2)   \n",
    "\n",
    "for i, mT2 in enumerate(T2s):\n",
    "    res2[:,:,i] = FIM_inv(angles_rad, TE, TRs, M0, T1, mT2)\n",
    "\n",
    "plt.plot(T2s, 10*np.log10(res2[1,1,:]))\n",
    "plt.figure()\n",
    "plt.plot(T1s, 10*np.log10(res1[0,0,:]))"
   ]
  },
  {
   "cell_type": "code",
   "execution_count": null,
   "metadata": {
    "collapsed": false,
    "jupyter": {
     "outputs_hidden": false
    }
   },
   "outputs": [],
   "source": [
    "# Schur complement of I22 in I:\n",
    "I11 = np.array([[a11, a12], [a12, a22]])\n",
    "I12 = np.array([[a13], [a23]])\n",
    "I22 = np.array([[a33]])\n",
    "\n",
    "Schur = I11 - np.dot(I12, I12.T) / I22\n",
    "\n",
    "print Schur\n",
    "\n",
    "detSchur = Schur[0,0]*Schur[1,1] - Schur[0,1] * Schur[1,0]\n",
    "\n",
    "print detSchur\n"
   ]
  },
  {
   "cell_type": "code",
   "execution_count": null,
   "metadata": {},
   "outputs": [],
   "source": [
    "def detschur(angles_rad, TE, TRs, M0, T1, T2):\n",
    "    a11 = fisher_prime_T1_T1(angles_rad, TE, TRs, M0, T1, T2)\n",
    "    a12 = fisher_prime_T1_T2(angles_rad, TE, TRs, M0, T1, T2)\n",
    "    a13 = fisher_prime_T1_M0(angles_rad, TE, TRs, M0, T1, T2)\n",
    "    a22 = fisher_prime_T2_T2(angles_rad, TE, TRs, M0, T1, T2)\n",
    "    a23 = fisher_prime_T2_M0(angles_rad, TE, TRs, M0, T1, T2)\n",
    "    a33 = fisher_prime_M0_M0(angles_rad, TE, TRs, M0, T1, T2)\n",
    "    \n",
    "    I11 = np.array([[a11, a12], [a12, a22]])\n",
    "    I12 = np.array([[a13], [a23]])\n",
    "    I22 = np.array([[a33]])\n",
    "\n",
    "    Schur = I11 - np.dot(I12, I12.T) / I22\n",
    "    \n",
    "    return Schur[0,0]*Schur[1,1] - Schur[0,1] * Schur[1,0]\n"
   ]
  },
  {
   "cell_type": "code",
   "execution_count": null,
   "metadata": {
    "collapsed": false,
    "jupyter": {
     "outputs_hidden": false
    }
   },
   "outputs": [],
   "source": [
    "T1s = np.linspace(500, 3000, 100)\n",
    "res = np.zeros(np.shape(T1s))\n",
    "TRs = np.array([600, 1000, 2000])\n",
    "\n",
    "def myfun(x):\n",
    "    return detschur(angles_rad, TE, TRs, M0, x, T2)\n",
    "\n",
    "tic = time.time()\n",
    "res0 = joblib.Parallel(n_jobs=2, backend=\"threading\")(joblib.delayed(myfun)(mT1) for mT1 in T1s)\n",
    "toc = time.time()\n",
    "print(rf'parallelized { toc - tic}')\n",
    "\n",
    "tic = time.time()\n",
    "for ii, mT1 in enumerate(T1s):\n",
    "    res[ii] = detschur(angles_rad, TE, TRs, M0, mT1, T2)\n",
    "toc=time.time()\n",
    "print(rf'serial { toc - tic}')\n",
    "\n",
    "plt.plot(T1s, res)"
   ]
  },
  {
   "cell_type": "code",
   "execution_count": null,
   "metadata": {
    "collapsed": false,
    "jupyter": {
     "outputs_hidden": false
    }
   },
   "outputs": [],
   "source": [
    "T1s = np.linspace(500, 3000, 100)\n",
    "T2s = np.linspace(10, 500, 100)\n",
    "res = np.zeros((len(T1s), len(T2s)))\n",
    "TRs = np.array([600, 1000, 2000, 5000])\n",
    "for ii in range(len(T1s)):\n",
    "    for jj in range(len(T2s)):\n",
    "        res[ii, jj] = detschur(angles_rad, TE, TRs, M0, T1s[ii], T2s[jj])\n",
    "    print ii\n"
   ]
  },
  {
   "cell_type": "code",
   "execution_count": null,
   "metadata": {
    "collapsed": false,
    "jupyter": {
     "outputs_hidden": false
    }
   },
   "outputs": [],
   "source": [
    "plt.imshow(res)\n",
    "plt.figure()\n",
    "plt.plot(T2s, res[10,:])"
   ]
  }
 ],
 "metadata": {
  "anaconda-cloud": {},
  "kernelspec": {
   "display_name": "Python 3 (ipykernel)",
   "language": "python",
   "name": "python3"
  },
  "language_info": {
   "codemirror_mode": {
    "name": "ipython",
    "version": 3
   },
   "file_extension": ".py",
   "mimetype": "text/x-python",
   "name": "python",
   "nbconvert_exporter": "python",
   "pygments_lexer": "ipython3",
   "version": "3.9.12"
  }
 },
 "nbformat": 4,
 "nbformat_minor": 4
}
%s', np.linalg.norm(w2_num.ravel(order='F') - sig_prime_T2.T)\n",
    "print('M0 numerical vs prop gradient error:', np.linalg.norm(w0_num.ravel(order='F') - sig_prime_M0.T)\n",
    "print('alpha numerical vs prop gradient error:', np.linalg.norm(wa_num.ravel() - sig_prime_alpha.ravel())\n",
    "\n",
    "\n",
    "plt.figure()\n",
    "plt.plot(range(T*N), sig)\n",
    "plt.title('T1-T2 Shuffling signal')\n",
    "\n",
    "plt.figure()\n",
    "plt.plot(range(T*N), sig_prime_T2, range(T*N), w2_num.ravel(order='F'), '--o')\n",
    "plt.title('Derivative w.r.t. T2')\n",
    "plt.legend(('prop grad', 'numerical grad'))\n",
    "\n",
    "plt.figure()\n",
    "plt.plot(range(T*N), sig_prime_T1, range(T*N), w1_num.ravel(order='F'), '--o')\n",
    "plt.title('Derivative w.r.t. T1')\n",
    "plt.legend(('prop grad', 'numerical grad'))\n",
    "\n",
    "plt.figure()\n",
    "plt.plot(range(T*N), sig_prime_M0, range(T*N), w0_num.ravel(order='F'), '--o')\n",
    "plt.title('Derivative w.r.t. M0')\n",
    "plt.legend(('prop grad', 'numerical grad'))\n",
    "\n",
    "plt.figure()\n",
    "plt.plot(range(T*N), sig_prime_B1, range(T*N), wb1_num.ravel(order='F'), '--o')\n",
    "plt.title('Derivative w.r.t. B1')\n",
    "plt.legend(('prop grad', 'numerical grad'))\n",
    "\n",
    "plt.figure(figsize=(10,T*2))\n",
    "for k in range(T):\n",
    "    plt.subplot(T,1,k+1)\n",
    "    plt.plot(range(T*N), sig_prime_alpha[k,:], range(T*N), wa_num[k,:,:].ravel(), '--o')\n",
    "\n",
    "    plt.title('Derivative w.r.t. alpha %d' % k)\n",
    "    plt.legend(('prop grad', 'numerical grad'))"
   ]
  },
  {
   "cell_type": "code",
   "execution_count": null,
   "metadata": {
    "collapsed": false,
    "jupyter": {
     "outputs_hidden": false
    }
   },
   "outputs": [],
   "source": [
    "M0 = 1;\n",
    "T1 = 1000\n",
    "T2 = 100\n",
    "TE = 5\n",
    "\n",
    "b1 = .9\n",
    "\n",
    "TRs = np.array([2800, 1700, 950])\n",
    "\n",
    "N = len(TRs)\n",
    "\n",
    "T = 10\n",
    "\n",
    "echo_times = np.arange(TE, TE*(T+1), TE)\n",
    "\n",
    "angles_rad = 120 * np.ones((T,)) * np.pi/180\n",
    "angles_rad = np.pi/180 * read_angles('flipangles.txt.814192544')[:T]\n",
    "\n",
    "\n",
    "tic = time.time()\n",
    "sig_prime_B1 = t1t2sh.t1t2shuffle_prime_T2(angles_rad, TE, TRs, M0, T1, T2)\n",
    "toc = time.time()\n",
    "\n",
    "print(rf'T2 derivative time: { toc - tic}')\n"
   ]
  },
  {
   "cell_type": "code",
   "execution_count": null,
   "metadata": {
    "collapsed": true,
    "jupyter": {
     "outputs_hidden": true
    }
   },
   "outputs": [],
   "source": []
  },
  {
   "cell_type": "code",
   "execution_count": null,
   "metadata": {
    "collapsed": true,
    "jupyter": {
     "outputs_hidden": true
    }
   },
   "outputs": [],
   "source": []
  },
  {
   "cell_type": "code",
   "execution_count": null,
   "metadata": {
    "collapsed": false,
    "jupyter": {
     "outputs_hidden": false
    }
   },
   "outputs": [],
   "source": [
    "a11 = fisher_prime_T1_T1(angles_rad, TE, TRs, M0, T1, T2)\n",
    "a12 = fisher_prime_T1_T2(angles_rad, TE, TRs, M0, T1, T2)\n",
    "a13 = fisher_prime_T1_M0(angles_rad, TE, TRs, M0, T1, T2)\n",
    "a22 = fisher_prime_T2_T2(angles_rad, TE, TRs, M0, T1, T2)\n",
    "a23 = fisher_prime_T2_M0(angles_rad, TE, TRs, M0, T1, T2)\n",
    "a33 = fisher_prime_M0_M0(angles_rad, TE, TRs, M0, T1, T2)\n",
    "\n",
    "a21 = a12\n",
    "a31 = a13\n",
    "a32 = a23\n",
    "\n",
    "FIM = np.array([[a11, a12, a13], [a21, a22, a23], [a31, a32, a33]])\n",
    "print FIM"
   ]
  },
  {
   "cell_type": "code",
   "execution_count": null,
   "metadata": {
    "collapsed": false,
    "jupyter": {
     "outputs_hidden": false
    }
   },
   "outputs": [],
   "source": [
    "FIM_det = a11*a22*a33 + a21*a32*a13 + a31*a12*a23 - a11*a32*a23 - a31*a22*a13 - a21*a12*a33\n",
    "FIM_inv = 1 / FIM_det * np.array([[a22*a33-a23*a32, a13*a32-a12*a33, a12*a23-a13*a22],\n",
    "                                  [a23*a31-a21*a33, a11*a33-a13*a31, a13*a21-a11*a23],\n",
    "                                  [a21*a32-a22*a31, a12*a31-a11*a32, a11*a22-a12*a21]])\n",
    "\n",
    "print FIM_inv"
   ]
  },
  {
   "cell_type": "code",
   "execution_count": null,
   "metadata": {
    "collapsed": false,
    "jupyter": {
     "outputs_hidden": false
    }
   },
   "outputs": [],
   "source": [
    "def FIM_inv(angles_rad, TE, TRs, M0, T1, T2):\n",
    "    a11 = fisher_prime_T1_T1(angles_rad, TE, TRs, M0, T1, T2)\n",
    "    a12 = fisher_prime_T1_T2(angles_rad, TE, TRs, M0, T1, T2)\n",
    "    a13 = fisher_prime_T1_M0(angles_rad, TE, TRs, M0, T1, T2)\n",
    "    a22 = fisher_prime_T2_T2(angles_rad, TE, TRs, M0, T1, T2)\n",
    "    a23 = fisher_prime_T2_M0(angles_rad, TE, TRs, M0, T1, T2)\n",
    "    a33 = fisher_prime_M0_M0(angles_rad, TE, TRs, M0, T1, T2)\n",
    "\n",
    "    a21 = a12\n",
    "    a31 = a13\n",
    "    a32 = a23\n",
    "    FIM_det = a11*a22*a33 + a21*a32*a13 + a31*a12*a23 - a11*a32*a23 - a31*a22*a13 - a21*a12*a33\n",
    "    FIM_inv = 1 / FIM_det * np.array([[a22*a33-a23*a32, a13*a32-a12*a33, a12*a23-a13*a22],\n",
    "                                      [a23*a31-a21*a33, a11*a33-a13*a31, a13*a21-a11*a23],\n",
    "                                      [a21*a32-a22*a31, a12*a31-a11*a32, a11*a22-a12*a21]])\n",
    "    \n",
    "    return FIM_inv\n",
    "\n",
    "\n",
    "angles_rad = np.pi * np.ones((500,))\n",
    "\n",
    "T1s = np.linspace(500, 1000, 50)\n",
    "T2s = np.linspace(10, 1000, 50)\n",
    "\n",
    "res1 = np.zeros((3, 3, len(T1s)))\n",
    "res2 = np.zeros((3, 3, len(T2s)))\n",
    "\n",
    "TRs = np.array([2800, 1700, 950])\n",
    "\n",
    "\n",
    "for i, mT1 in enumerate(T1s):\n",
    "    res1[:,:,i] = FIM_inv(angles_rad, TE, TRs, M0, mT1, T2)   \n",
    "\n",
    "for i, mT2 in enumerate(T2s):\n",
    "    res2[:,:,i] = FIM_inv(angles_rad, TE, TRs, M0, T1, mT2)\n",
    "\n",
    "plt.plot(T2s, 10*np.log10(res2[1,1,:]))\n",
    "plt.figure()\n",
    "plt.plot(T1s, 10*np.log10(res1[0,0,:]))"
   ]
  },
  {
   "cell_type": "code",
   "execution_count": null,
   "metadata": {
    "collapsed": false,
    "jupyter": {
     "outputs_hidden": false
    }
   },
   "outputs": [],
   "source": [
    "# Schur complement of I22 in I:\n",
    "I11 = np.array([[a11, a12], [a12, a22]])\n",
    "I12 = np.array([[a13], [a23]])\n",
    "I22 = np.array([[a33]])\n",
    "\n",
    "Schur = I11 - np.dot(I12, I12.T) / I22\n",
    "\n",
    "print Schur\n",
    "\n",
    "detSchur = Schur[0,0]*Schur[1,1] - Schur[0,1] * Schur[1,0]\n",
    "\n",
    "print detSchur\n"
   ]
  },
  {
   "cell_type": "code",
   "execution_count": null,
   "metadata": {},
   "outputs": [],
   "source": [
    "def detschur(angles_rad, TE, TRs, M0, T1, T2):\n",
    "    a11 = fisher_prime_T1_T1(angles_rad, TE, TRs, M0, T1, T2)\n",
    "    a12 = fisher_prime_T1_T2(angles_rad, TE, TRs, M0, T1, T2)\n",
    "    a13 = fisher_prime_T1_M0(angles_rad, TE, TRs, M0, T1, T2)\n",
    "    a22 = fisher_prime_T2_T2(angles_rad, TE, TRs, M0, T1, T2)\n",
    "    a23 = fisher_prime_T2_M0(angles_rad, TE, TRs, M0, T1, T2)\n",
    "    a33 = fisher_prime_M0_M0(angles_rad, TE, TRs, M0, T1, T2)\n",
    "    \n",
    "    I11 = np.array([[a11, a12], [a12, a22]])\n",
    "    I12 = np.array([[a13], [a23]])\n",
    "    I22 = np.array([[a33]])\n",
    "\n",
    "    Schur = I11 - np.dot(I12, I12.T) / I22\n",
    "    \n",
    "    return Schur[0,0]*Schur[1,1] - Schur[0,1] * Schur[1,0]\n"
   ]
  },
  {
   "cell_type": "code",
   "execution_count": null,
   "metadata": {
    "collapsed": false,
    "jupyter": {
     "outputs_hidden": false
    }
   },
   "outputs": [],
   "source": [
    "T1s = np.linspace(500, 3000, 100)\n",
    "res = np.zeros(np.shape(T1s))\n",
    "TRs = np.array([600, 1000, 2000])\n",
    "\n",
    "def myfun(x):\n",
    "    return detschur(angles_rad, TE, TRs, M0, x, T2)\n",
    "\n",
    "tic = time.time()\n",
    "res0 = joblib.Parallel(n_jobs=2, backend=\"threading\")(joblib.delayed(myfun)(mT1) for mT1 in T1s)\n",
    "toc = time.time()\n",
    "print(rf'parallelized { toc - tic}')\n",
    "\n",
    "tic = time.time()\n",
    "for ii, mT1 in enumerate(T1s):\n",
    "    res[ii] = detschur(angles_rad, TE, TRs, M0, mT1, T2)\n",
    "toc=time.time()\n",
    "print(rf'serial { toc - tic}')\n",
    "\n",
    "plt.plot(T1s, res)"
   ]
  },
  {
   "cell_type": "code",
   "execution_count": null,
   "metadata": {
    "collapsed": false,
    "jupyter": {
     "outputs_hidden": false
    }
   },
   "outputs": [],
   "source": [
    "T1s = np.linspace(500, 3000, 100)\n",
    "T2s = np.linspace(10, 500, 100)\n",
    "res = np.zeros((len(T1s), len(T2s)))\n",
    "TRs = np.array([600, 1000, 2000, 5000])\n",
    "for ii in range(len(T1s)):\n",
    "    for jj in range(len(T2s)):\n",
    "        res[ii, jj] = detschur(angles_rad, TE, TRs, M0, T1s[ii], T2s[jj])\n",
    "    print ii\n"
   ]
  },
  {
   "cell_type": "code",
   "execution_count": null,
   "metadata": {
    "collapsed": false,
    "jupyter": {
     "outputs_hidden": false
    }
   },
   "outputs": [],
   "source": [
    "plt.imshow(res)\n",
    "plt.figure()\n",
    "plt.plot(T2s, res[10,:])"
   ]
  }
 ],
 "metadata": {
  "anaconda-cloud": {},
  "kernelspec": {
   "display_name": "Python 3 (ipykernel)",
   "language": "python",
   "name": "python3"
  },
  "language_info": {
   "codemirror_mode": {
    "name": "ipython",
    "version": 3
   },
   "file_extension": ".py",
   "mimetype": "text/x-python",
   "name": "python",
   "nbconvert_exporter": "python",
   "pygments_lexer": "ipython3",
   "version": "3.9.12"
  }
 },
 "nbformat": 4,
 "nbformat_minor": 4
}
