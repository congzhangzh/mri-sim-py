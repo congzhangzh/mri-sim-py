{
 "cells": [
  {
   "cell_type": "code",
   "execution_count": 1,
   "metadata": {
    "collapsed": false
   },
   "outputs": [],
   "source": [
    "from __future__ import division\n",
    "# %pylab\n",
    "import numpy as np\n",
    "import epg"
   ]
  },
  {
   "cell_type": "code",
   "execution_count": 2,
   "metadata": {
    "collapsed": false
   },
   "outputs": [],
   "source": [
    "np.set_printoptions(suppress=True, precision=4, linewidth=300)"
   ]
  },
  {
   "cell_type": "code",
   "execution_count": 3,
   "metadata": {
    "collapsed": false
   },
   "outputs": [],
   "source": [
    "T1 = 1000e-3\n",
    "T2 = 100e-3\n",
    "TE = 5e-3\n",
    "\n",
    "P_z = np.array([[0],[0],[1]])\n",
    "P_xy = np.array([[1],[1],[0]])\n",
    "\n",
    "def eRF(P, a, p):\n",
    "    return epg.rf(P, np.pi/180 * a, np.pi/180*p)\n",
    "\n",
    "def eTE(P, a, p):\n",
    "    return epg.FSE_TE(P, a * np.pi/180, p * np.pi / 180, TE, T1, T2)\n",
    "\n",
    "def eRelax(P, T):\n",
    "    return epg.relax(P, T, T1, T2)\n",
    "\n",
    "def eGrad(P):\n",
    "    return epg.grad(P)"
   ]
  },
  {
   "cell_type": "code",
   "execution_count": 4,
   "metadata": {
    "collapsed": false
   },
   "outputs": [
    {
     "name": "stdout",
     "output_type": "stream",
     "text": [
      "[[0 1]\n",
      " [0 0]\n",
      " [0 0]]\n"
     ]
    }
   ],
   "source": [
    "Q1 = eGrad(P_xy)\n",
    "print Q1\n"
   ]
  },
  {
   "cell_type": "code",
   "execution_count": 5,
   "metadata": {
    "collapsed": false
   },
   "outputs": [
    {
     "name": "stdout",
     "output_type": "stream",
     "text": [
      "[[ 0.00+0.j     0.25+0.j   ]\n",
      " [ 0.00+0.j     0.75+0.j   ]\n",
      " [ 0.00+0.j     0.00-0.433j]]\n"
     ]
    }
   ],
   "source": [
    "Q2 = eRF(Q1, 120, 0)\n",
    "print Q2"
   ]
  },
  {
   "cell_type": "code",
   "execution_count": 6,
   "metadata": {
    "collapsed": false
   },
   "outputs": [
    {
     "name": "stdout",
     "output_type": "stream",
     "text": [
      "[[ 0.75-0.j     0.00+0.j     0.25+0.j   ]\n",
      " [ 0.75+0.j     0.00+0.j     0.00+0.j   ]\n",
      " [ 0.00+0.j     0.00-0.433j  0.00+0.j   ]]\n"
     ]
    }
   ],
   "source": [
    "Q3 = eGrad(Q2)\n",
    "print Q3"
   ]
  },
  {
   "cell_type": "code",
   "execution_count": 7,
   "metadata": {
    "collapsed": false
   },
   "outputs": [
    {
     "name": "stdout",
     "output_type": "stream",
     "text": [
      "[[ 0.9375-0.j      0.0000+0.j     -0.1875+0.j      0.0000+0.j      0.0625+0.j    ]\n",
      " [ 0.9375+0.j      0.0000+0.j      0.1875+0.j      0.0000+0.j      0.0000+0.j    ]\n",
      " [ 0.0000+0.j      0.0000-0.1083j  0.0000+0.j      0.0000-0.1083j  0.0000+0.j    ]]\n"
     ]
    }
   ],
   "source": [
    "Q4 = eGrad(eRF(eGrad(Q3), 120, 0))\n",
    "print Q4"
   ]
  },
  {
   "cell_type": "code",
   "execution_count": 8,
   "metadata": {
    "collapsed": false
   },
   "outputs": [
    {
     "name": "stdout",
     "output_type": "stream",
     "text": [
      "[[ 0.7342-0.j      0.0000+0.j      0.3908+0.j      0.0000+0.j     -0.1841+0.j      0.0000+0.j      0.0258+0.j    ]\n",
      " [ 0.7342+0.j      0.0000+0.j     -0.0034+0.j      0.0000+0.j      0.0367+0.j      0.0000+0.j      0.0000+0.j    ]\n",
      " [ 0.0000+0.j      0.0000-0.3505j  0.0000+0.j      0.0000+0.1111j  0.0000+0.j      0.0000-0.0308j  0.0000+0.j    ]]\n"
     ]
    }
   ],
   "source": [
    "Q5 = eGrad(eRF(eGrad(Q4), 100, 0))\n",
    "print Q5"
   ]
  },
  {
   "cell_type": "code",
   "execution_count": 9,
   "metadata": {
    "collapsed": false
   },
   "outputs": [
    {
     "name": "stdout",
     "output_type": "stream",
     "text": [
      "[[ 0.8534-0.j      0.0000+0.j     -0.1226+0.j      0.0000+0.j      0.2214+0.j      0.0000+0.j     -0.0727+0.j      0.0000+0.j      0.0065+0.j    ]\n",
      " [ 0.8534+0.j      0.0000+0.j      0.2060+0.j      0.0000+0.j     -0.1114+0.j      0.0000+0.j      0.0194+0.j      0.0000+0.j      0.0000+0.j    ]\n",
      " [ 0.0000+0.j      0.0000-0.1442j  0.0000+0.j      0.0000-0.2089j  0.0000+0.j      0.0000+0.0951j  0.0000+0.j      0.0000-0.0112j  0.0000+0.j    ]]\n"
     ]
    }
   ],
   "source": [
    "Q6 = eGrad(eRF(eGrad(Q5), 120, 0))\n",
    "print Q6"
   ]
  },
  {
   "cell_type": "code",
   "execution_count": 10,
   "metadata": {
    "collapsed": false
   },
   "outputs": [
    {
     "data": {
      "text/plain": [
       "array([[ 1.-0.j],\n",
       "       [ 1.+0.j],\n",
       "       [ 0.+0.j]])"
      ]
     },
     "execution_count": 10,
     "metadata": {},
     "output_type": "execute_result"
    }
   ],
   "source": [
    "P1 = eRF(P_z, 90, 90)\n",
    "P1"
   ]
  },
  {
   "cell_type": "code",
   "execution_count": 11,
   "metadata": {
    "collapsed": false
   },
   "outputs": [
    {
     "data": {
      "text/plain": [
       "array([[ 0.7134+0.j    ,  0.0000-0.0021j,  0.2378-0.j    ],\n",
       "       [ 0.7134-0.j    ,  0.0000+0.j    ,  0.0000+0.j    ],\n",
       "       [ 0.0013+0.j    , -0.0000-0.4213j,  0.0000+0.j    ]])"
      ]
     },
     "execution_count": 11,
     "metadata": {},
     "output_type": "execute_result"
    }
   ],
   "source": [
    "P2 = eTE(P1, 120, 0)\n",
    "P2"
   ]
  },
  {
   "cell_type": "code",
   "execution_count": 12,
   "metadata": {
    "collapsed": false
   },
   "outputs": [
    {
     "data": {
      "text/plain": [
       "array([[ 0.8639-0.j    ,  0.0000-0.0032j, -0.1853+0.j    ,  0.0000-0.0005j,  0.0566-0.j    ],\n",
       "       [ 0.8639+0.j    ,  0.0000-0.0015j,  0.1697-0.j    ,  0.0000+0.j    ,  0.0000+0.j    ],\n",
       "       [ 0.0006+0.j    ,  0.0000-0.091j , -0.0009+0.j    , -0.0000-0.1002j,  0.0000+0.j    ]])"
      ]
     },
     "execution_count": 12,
     "metadata": {},
     "output_type": "execute_result"
    }
   ],
   "source": [
    "P3 = eTE(P2, 120, 0)\n",
    "P3"
   ]
  },
  {
   "cell_type": "code",
   "execution_count": 13,
   "metadata": {
    "collapsed": false
   },
   "outputs": [
    {
     "data": {
      "text/plain": [
       "array([[ 0.8426-0.j    ,  0.0000-0.0031j, -0.1807+0.j    ,  0.0000-0.0005j,  0.0552-0.j    ],\n",
       "       [ 0.8426+0.j    ,  0.0000-0.0015j,  0.1655-0.j    ,  0.0000+0.j    ,  0.0000+0.j    ],\n",
       "       [ 0.0031+0.j    ,  0.0000-0.0907j, -0.0009+0.j    , -0.0000-0.0999j,  0.0000+0.j    ]])"
      ]
     },
     "execution_count": 13,
     "metadata": {},
     "output_type": "execute_result"
    }
   ],
   "source": [
    "P4 = eRelax(P3, TE/2)\n",
    "P4"
   ]
  },
  {
   "cell_type": "code",
   "execution_count": 14,
   "metadata": {
    "collapsed": false
   },
   "outputs": [
    {
     "data": {
      "text/plain": [
       "array([[ 0.0000+0.0015j,  0.8426-0.j    ,  0.0000-0.0031j, -0.1807+0.j    ,  0.0000-0.0005j,  0.0552-0.j    ],\n",
       "       [ 0.0000-0.0015j,  0.1655-0.j    ,  0.0000+0.j    ,  0.0000+0.j    ,  0.0000+0.j    ,  0.0000+0.j    ],\n",
       "       [ 0.0031+0.j    ,  0.0000-0.0907j, -0.0009+0.j    , -0.0000-0.0999j,  0.0000+0.j    ,  0.0000+0.j    ]])"
      ]
     },
     "execution_count": 14,
     "metadata": {},
     "output_type": "execute_result"
    }
   ],
   "source": [
    "P5 = eGrad(P4)\n",
    "P5"
   ]
  },
  {
   "cell_type": "code",
   "execution_count": 15,
   "metadata": {
    "collapsed": false
   },
   "outputs": [
    {
     "data": {
      "text/plain": [
       "array([[ 0.0000-0.0034j,  0.2562-0.j    ,  0.0000-0.j    , -0.1317+0.j    ,  0.0000-0.0001j,  0.0138-0.j    ],\n",
       "       [ 0.0000+0.0034j,  0.7519+0.j    ,  0.0000-0.0031j, -0.0490+0.j    ,  0.0000-0.0004j,  0.0414-0.j    ],\n",
       "       [-0.0003+0.j    , -0.0000-0.2478j, -0.0009+0.j    ,  0.0000+0.1282j, -0.0002+0.j    , -0.0000-0.0239j]])"
      ]
     },
     "execution_count": 15,
     "metadata": {},
     "output_type": "execute_result"
    }
   ],
   "source": [
    "P6 = eRF(P5, 120, 0)\n",
    "P6"
   ]
  },
  {
   "cell_type": "code",
   "execution_count": 16,
   "metadata": {
    "collapsed": false
   },
   "outputs": [
    {
     "data": {
      "text/plain": [
       "array([[ 0.7519-0.j    ,  0.0000-0.0034j,  0.2562-0.j    ,  0.0000-0.j    , -0.1317+0.j    ,  0.0000-0.0001j,  0.0138-0.j    ],\n",
       "       [ 0.7519+0.j    ,  0.0000-0.0031j, -0.0490+0.j    ,  0.0000-0.0004j,  0.0414-0.j    ,  0.0000+0.j    ,  0.0000+0.j    ],\n",
       "       [-0.0003+0.j    , -0.0000-0.2478j, -0.0009+0.j    ,  0.0000+0.1282j, -0.0002+0.j    , -0.0000-0.0239j,  0.0000+0.j    ]])"
      ]
     },
     "execution_count": 16,
     "metadata": {},
     "output_type": "execute_result"
    }
   ],
   "source": [
    "P7 = eGrad(P6)\n",
    "P7"
   ]
  },
  {
   "cell_type": "code",
   "execution_count": 17,
   "metadata": {
    "collapsed": false
   },
   "outputs": [
    {
     "data": {
      "text/plain": [
       "array([[ 0.7333-0.j    ,  0.0000-0.0034j,  0.2498-0.j    ,  0.0000-0.j    , -0.1285+0.j    ,  0.0000-0.0001j,  0.0134-0.j    ],\n",
       "       [ 0.7333+0.j    ,  0.0000-0.003j , -0.0478+0.j    ,  0.0000-0.0004j,  0.0403-0.j    ,  0.0000+0.j    ,  0.0000+0.j    ],\n",
       "       [ 0.0022+0.j    , -0.0000-0.2472j, -0.0009+0.j    ,  0.0000+0.1279j, -0.0002+0.j    , -0.0000-0.0238j,  0.0000+0.j    ]])"
      ]
     },
     "execution_count": 17,
     "metadata": {},
     "output_type": "execute_result"
    }
   ],
   "source": [
    "P8 = eRelax(P7, TE/2)\n",
    "P8"
   ]
  },
  {
   "cell_type": "code",
   "execution_count": 18,
   "metadata": {
    "collapsed": false
   },
   "outputs": [
    {
     "data": {
      "text/plain": [
       "array([[ 0.6274+0.j    ,  0.0000-0.005j ,  0.0247+0.j    ,  0.0000-0.0007j,  0.2432-0.j    ,  0.0000+0.0002j, -0.0733+0.j    ,  0.0000-0.j    ,  0.0053-0.j    ],\n",
       "       [ 0.6274-0.j    ,  0.0000-0.0029j,  0.0328-0.j    ,  0.0000-0.0002j, -0.0489+0.j    ,  0.0000-0.0001j,  0.0075-0.j    ,  0.0000+0.j    ,  0.0000+0.j    ],\n",
       "       [ 0.0046+0.j    , -0.0000-0.3315j, -0.0013+0.j    , -0.0000-0.1225j,  0.0000+0.j    ,  0.0000+0.0657j, -0.0001+0.j    , -0.0000-0.0064j,  0.0000+0.j    ]])"
      ]
     },
     "execution_count": 18,
     "metadata": {},
     "output_type": "execute_result"
    }
   ],
   "source": [
    "P9 = eTE(P8, 100, 0)\n",
    "P9"
   ]
  },
  {
   "cell_type": "code",
   "execution_count": 19,
   "metadata": {
    "collapsed": false
   },
   "outputs": [
    {
     "data": {
      "text/plain": [
       "array([[ 0.6807+0.j    ,  0.0000-0.0072j, -0.0527+0.j    ,  0.0000-0.0009j, -0.1349+0.j    ,  0.0000-0.0003j,  0.1627-0.j    ,  0.0000+0.0001j, -0.0350+0.j    ,  0.0000-0.j    ,  0.0021-0.j    ],\n",
       "       [ 0.6807-0.j    ,  0.0000-0.0041j,  0.1119-0.j    ,  0.0000-0.0004j,  0.0758-0.j    ,  0.0000+0.0001j, -0.0348+0.j    ,  0.0000-0.j    ,  0.0030-0.j    ,  0.0000+0.j    ,  0.0000+0.j    ],\n",
       "       [ 0.0040+0.j    ,  0.0000-0.2276j, -0.0021+0.j    ,  0.0000-0.0141j, -0.0003+0.j    , -0.0000-0.1243j,  0.0001+0.j    ,  0.0000+0.0362j, -0.0000+0.j    , -0.0000-0.0025j,  0.0000+0.j    ]])"
      ]
     },
     "execution_count": 19,
     "metadata": {},
     "output_type": "execute_result"
    }
   ],
   "source": [
    "P10 = eTE(P9, 100, 0)\n",
    "P10"
   ]
  },
  {
   "cell_type": "code",
   "execution_count": 20,
   "metadata": {
    "collapsed": false
   },
   "outputs": [
    {
     "data": {
      "text/plain": [
       "array([[ 0.6420-0.j    ,  0.0000-0.0069j,  0.1119-0.j    ,  0.0000-0.0011j,  0.0081-0.j    ,  0.0000-0.j    , -0.1915+0.j    ,  0.0000-0.0002j,  0.1003-0.j    ,  0.0000+0.0001j, -0.0162+0.j    ,  0.0000-0.j    ,  0.0008-0.j    ],\n",
       "       [ 0.6420+0.j    ,  0.0000-0.0062j,  0.0139+0.j    ,  0.0000-0.0007j,  0.0301+0.j    ,  0.0000-0.0001j,  0.0573-0.j    ,  0.0000+0.0001j, -0.0171+0.j    ,  0.0000-0.j    ,  0.0012-0.j    ,  0.0000+0.j    ,  0.0000+0.j    ],\n",
       "       [ 0.0053+0.j    ,  0.0000-0.2332j, -0.0029+0.j    ,  0.0000+0.064j , -0.0004+0.j    ,  0.0000+0.0695j, -0.0002+0.j    , -0.0000-0.0828j,  0.0001+0.j    ,  0.0000+0.0172j, -0.0000+0.j    , -0.0000-0.001j ,  0.0000+0.j    ]])"
      ]
     },
     "execution_count": 20,
     "metadata": {},
     "output_type": "execute_result"
    }
   ],
   "source": [
    "P11 = eTE(P10, 100, 0)\n",
    "P11"
   ]
  },
  {
   "cell_type": "code",
   "execution_count": null,
   "metadata": {
    "collapsed": true
   },
   "outputs": [],
   "source": []
  },
  {
   "cell_type": "code",
   "execution_count": null,
   "metadata": {
    "collapsed": true
   },
   "outputs": [],
   "source": []
  },
  {
   "cell_type": "code",
   "execution_count": null,
   "metadata": {
    "collapsed": true
   },
   "outputs": [],
   "source": []
  },
  {
   "cell_type": "code",
   "execution_count": null,
   "metadata": {
    "collapsed": true
   },
   "outputs": [],
   "source": []
  }
 ],
 "metadata": {
  "kernelspec": {
   "display_name": "Python 2",
   "language": "python",
   "name": "python2"
  },
  "language_info": {
   "codemirror_mode": {
    "name": "ipython",
    "version": 2
   },
   "file_extension": ".py",
   "mimetype": "text/x-python",
   "name": "python",
   "nbconvert_exporter": "python",
   "pygments_lexer": "ipython2",
   "version": "2.7.11"
  }
 },
 "nbformat": 4,
 "nbformat_minor": 0
}
